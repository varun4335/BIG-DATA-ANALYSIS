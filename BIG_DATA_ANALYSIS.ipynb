{
 "cells": [
  {
   "cell_type": "code",
   "execution_count": 1,
   "metadata": {
    "colab": {
     "base_uri": "https://localhost:8080/"
    },
    "id": "i_nQoV_u71FW",
    "outputId": "afaaeba2-5f96-44ad-cd9e-2d8808d5d584"
   },
   "outputs": [
    {
     "name": "stdout",
     "output_type": "stream",
     "text": [
      "Requirement already satisfied: pyspark in /usr/local/lib/python3.11/dist-packages (3.5.1)\n",
      "Requirement already satisfied: py4j==0.10.9.7 in /usr/local/lib/python3.11/dist-packages (from pyspark) (0.10.9.7)\n"
     ]
    }
   ],
   "source": [
    "!pip install pyspark\n"
   ]
  },
  {
   "cell_type": "code",
   "execution_count": 2,
   "metadata": {
    "id": "1u6b8FQo71uM"
   },
   "outputs": [],
   "source": [
    "from pyspark.sql import SparkSession\n",
    "from pyspark.sql.functions import to_timestamp, hour, avg, col\n"
   ]
  },
  {
   "cell_type": "code",
   "execution_count": 3,
   "metadata": {
    "id": "ivW9QTU-714l"
   },
   "outputs": [],
   "source": [
    "spark = SparkSession.builder.appName(\"NYC Taxi Trip Analysis\").getOrCreate()"
   ]
  },
  {
   "cell_type": "code",
   "execution_count": 10,
   "metadata": {
    "id": "OsJZJdsa8Rfq"
   },
   "outputs": [],
   "source": [
    "df = spark.read.csv(\"/content/FILE.csv\", header=True, inferSchema=True)"
   ]
  },
  {
   "cell_type": "code",
   "execution_count": 11,
   "metadata": {
    "id": "m93KLQQv717F"
   },
   "outputs": [],
   "source": [
    "df = df.withColumn(\"pickup_datetime\", to_timestamp(\"pickup_datetime\", \"dd-MM-yyyy HH:mm\"))\n",
    "df = df.withColumn(\"dropoff_datetime\", to_timestamp(\"dropoff_datetime\", \"dd-MM-yyyy HH:mm\"))\n"
   ]
  },
  {
   "cell_type": "code",
   "execution_count": 12,
   "metadata": {
    "id": "dVA9xdSH71-n"
   },
   "outputs": [],
   "source": [
    "df = df.withColumn(\"pickup_hour\", hour(\"pickup_datetime\"))\n"
   ]
  },
  {
   "cell_type": "code",
   "execution_count": null,
   "metadata": {
    "id": "B5FUVbW7BH4V"
   },
   "outputs": [],
   "source": [
    "# 1. Average Trip Duration per Hour"
   ]
  },
  {
   "cell_type": "code",
   "execution_count": 13,
   "metadata": {
    "colab": {
     "base_uri": "https://localhost:8080/"
    },
    "id": "QXkV81F99r-1",
    "outputId": "379f961c-40cf-4782-b884-77bfa6c24973"
   },
   "outputs": [
    {
     "name": "stdout",
     "output_type": "stream",
     "text": [
      "+-----------+------------------+\n",
      "|pickup_hour| avg_trip_duration|\n",
      "+-----------+------------------+\n",
      "|          0|  902.366786393408|\n",
      "|          1|  868.113301942319|\n",
      "|          2|  772.278376139188|\n",
      "|          3| 811.1673984632272|\n",
      "|          4|1100.7176470588236|\n",
      "|          5| 765.0469992769342|\n",
      "|          6| 698.1391391391392|\n",
      "|          7| 803.3330645161291|\n",
      "|          8| 944.8384030418251|\n",
      "|          9| 942.5535122597747|\n",
      "|         10| 952.2411603158256|\n",
      "|         11| 942.5669562366825|\n",
      "|         12| 971.8299694189602|\n",
      "|         13|  986.724535554132|\n",
      "|         14| 1031.148948948949|\n",
      "|         15|1125.0550742574258|\n",
      "|         16|1086.0443105281815|\n",
      "|         17|1064.8161903380242|\n",
      "|         18|1042.1610730034297|\n",
      "|         19| 895.6161195492406|\n",
      "+-----------+------------------+\n",
      "only showing top 20 rows\n",
      "\n"
     ]
    }
   ],
   "source": [
    "avg_duration_by_hour = df.groupBy(\"pickup_hour\") \\\n",
    "    .agg(avg(\"trip_duration\").alias(\"avg_trip_duration\")) \\\n",
    "    .orderBy(\"pickup_hour\")\n",
    "\n",
    "avg_duration_by_hour.show()"
   ]
  },
  {
   "cell_type": "code",
   "execution_count": null,
   "metadata": {
    "id": "wO3O_fEnFxNm"
   },
   "outputs": [],
   "source": [
    "# 2. Passenger Count Distribution"
   ]
  },
  {
   "cell_type": "code",
   "execution_count": 17,
   "metadata": {
    "colab": {
     "base_uri": "https://localhost:8080/"
    },
    "id": "xCxhjeLu9wOE",
    "outputId": "047b99b6-3172-4ef5-9a74-4c5d72b41098"
   },
   "outputs": [
    {
     "name": "stdout",
     "output_type": "stream",
     "text": [
      "+---------------+-----+\n",
      "|passenger_count|count|\n",
      "+---------------+-----+\n",
      "|              0|    1|\n",
      "|              1|92171|\n",
      "|              2|18813|\n",
      "|              3| 5281|\n",
      "|              4| 2544|\n",
      "|              5| 6989|\n",
      "|              6| 4243|\n",
      "+---------------+-----+\n",
      "\n"
     ]
    }
   ],
   "source": [
    "passenger_dist = df.groupBy(\"passenger_count\") \\\n",
    "    .count() \\\n",
    "    .orderBy(\"passenger_count\")\n",
    "passenger_dist.show()"
   ]
  },
  {
   "cell_type": "code",
   "execution_count": null,
   "metadata": {
    "id": "VylU_YNdF5o-"
   },
   "outputs": [],
   "source": [
    "# 3. Store-and-Forward Flag Distribution"
   ]
  },
  {
   "cell_type": "code",
   "execution_count": 18,
   "metadata": {
    "colab": {
     "base_uri": "https://localhost:8080/"
    },
    "id": "JzqDm33ZBZgK",
    "outputId": "7bf67793-1e9c-42f8-bb9a-0ef1c3ee108b"
   },
   "outputs": [
    {
     "name": "stdout",
     "output_type": "stream",
     "text": [
      "+------------------+------+\n",
      "|store_and_fwd_flag| count|\n",
      "+------------------+------+\n",
      "|                 Y|   769|\n",
      "|                 N|129273|\n",
      "+------------------+------+\n",
      "\n"
     ]
    }
   ],
   "source": [
    "df.groupBy(\"store_and_fwd_flag\").count().show()"
   ]
  },
  {
   "cell_type": "code",
   "execution_count": null,
   "metadata": {
    "id": "P7irBl-hF9io"
   },
   "outputs": [],
   "source": [
    "# 4. Repartitioning and Caching to Demonstrate Scalability"
   ]
  },
  {
   "cell_type": "code",
   "execution_count": 19,
   "metadata": {
    "colab": {
     "base_uri": "https://localhost:8080/"
    },
    "id": "RgKtCkYbB_JE",
    "outputId": "e1f7bc18-b50b-4402-cc57-462a79e28ac2"
   },
   "outputs": [
    {
     "data": {
      "text/plain": [
       "DataFrame[id: string, vendor_id: int, pickup_datetime: timestamp, dropoff_datetime: timestamp, passenger_count: int, pickup_longitude: double, pickup_latitude: double, dropoff_longitude: double, dropoff_latitude: double, store_and_fwd_flag: string, trip_duration: int, pickup_hour: int]"
      ]
     },
     "execution_count": 19,
     "metadata": {},
     "output_type": "execute_result"
    }
   ],
   "source": [
    "df_repartitioned = df.repartition(8, \"pickup_hour\")\n",
    "df_repartitioned.cache()"
   ]
  },
  {
   "cell_type": "code",
   "execution_count": null,
   "metadata": {
    "id": "caRAw5mCGEUl"
   },
   "outputs": [],
   "source": [
    "# 5. Top 5 Longest Trips by Duration"
   ]
  },
  {
   "cell_type": "code",
   "execution_count": 20,
   "metadata": {
    "colab": {
     "base_uri": "https://localhost:8080/"
    },
    "id": "Vfmll8wHD7tP",
    "outputId": "0c30d209-222b-4c5d-ba24-994cd835cedf"
   },
   "outputs": [
    {
     "name": "stdout",
     "output_type": "stream",
     "text": [
      "+---------+-------------------+-------------------+-------------+\n",
      "|       id|    pickup_datetime|   dropoff_datetime|trip_duration|\n",
      "+---------+-------------------+-------------------+-------------+\n",
      "|id0953667|2016-05-06 00:00:00|2016-05-07 00:00:00|        86390|\n",
      "|id2837671|2016-06-30 16:37:00|2016-07-01 16:37:00|        86387|\n",
      "|id3782820|2016-05-12 13:48:00|2016-05-13 13:47:00|        86378|\n",
      "|id2307896|2016-05-14 04:48:00|2016-05-15 04:47:00|        86377|\n",
      "|id2198959|2016-02-22 09:06:00|2016-02-23 09:05:00|        86358|\n",
      "+---------+-------------------+-------------------+-------------+\n",
      "\n"
     ]
    }
   ],
   "source": [
    "top_longest = df.orderBy(col(\"trip_duration\").desc()).select(\n",
    "    \"id\", \"pickup_datetime\", \"dropoff_datetime\", \"trip_duration\").limit(5)\n",
    "top_longest.show()"
   ]
  },
  {
   "cell_type": "code",
   "execution_count": null,
   "metadata": {
    "id": "b3D9CgReGOtn"
   },
   "outputs": [],
   "source": [
    "#  6. Repartition by pickup hour"
   ]
  },
  {
   "cell_type": "code",
   "execution_count": 22,
   "metadata": {
    "colab": {
     "base_uri": "https://localhost:8080/"
    },
    "id": "7AFa5cTmEEVa",
    "outputId": "a74f8549-ca1d-4062-8da7-4f59808e9dbc"
   },
   "outputs": [
    {
     "name": "stdout",
     "output_type": "stream",
     "text": [
      "+-----------+------------------+\n",
      "|pickup_hour|      avg_duration|\n",
      "+-----------+------------------+\n",
      "|         13|  986.724535554132|\n",
      "|         12| 971.8299694189602|\n",
      "|         14| 1031.148948948949|\n",
      "|         18|1042.1610730034297|\n",
      "|         17|1064.8161903380242|\n",
      "|         23| 912.5974237730311|\n",
      "|          9| 942.5535122597747|\n",
      "|         16|1086.0443105281815|\n",
      "|          6| 698.1391391391392|\n",
      "|         10| 952.2411603158256|\n",
      "|          5| 765.0469992769342|\n",
      "|         11| 942.5669562366825|\n",
      "|          7| 803.3330645161291|\n",
      "|          3| 811.1673984632272|\n",
      "|          1|  868.113301942319|\n",
      "|         19| 895.6161195492406|\n",
      "|         20| 907.3041037294479|\n",
      "|         15|1125.0550742574258|\n",
      "|         22| 883.1973018549747|\n",
      "|          2|  772.278376139188|\n",
      "+-----------+------------------+\n",
      "only showing top 20 rows\n",
      "\n"
     ]
    }
   ],
   "source": [
    "df_repartitioned.cache()\n",
    "\n",
    "avg_duration_partitioned = df_repartitioned.groupBy(\"pickup_hour\") \\\n",
    "    .agg(avg(\"trip_duration\").alias(\"avg_duration\"))\n",
    "\n",
    "avg_duration_partitioned.show()"
   ]
  },
  {
   "cell_type": "code",
   "execution_count": 24,
   "metadata": {
    "colab": {
     "base_uri": "https://localhost:8080/"
    },
    "id": "nPHcJw2XEc7a",
    "outputId": "5179bf1a-a459-4ce1-f44c-b08ff40e22c7"
   },
   "outputs": [
    {
     "name": "stdout",
     "output_type": "stream",
     "text": [
      "+-----------+------------------+\n",
      "|pickup_hour|      avg_duration|\n",
      "+-----------+------------------+\n",
      "|          6| 698.1391391391392|\n",
      "|          5| 765.0469992769342|\n",
      "|          2|  772.278376139188|\n",
      "|          7| 803.3330645161291|\n",
      "|          3| 811.1673984632272|\n",
      "|         21| 852.6107329842932|\n",
      "|          1|  868.113301942319|\n",
      "|         22| 883.1973018549747|\n",
      "|         19| 895.6161195492406|\n",
      "|          0|  902.366786393408|\n",
      "|         20| 907.3041037294479|\n",
      "|         23| 912.5974237730311|\n",
      "|          9| 942.5535122597747|\n",
      "|         11| 942.5669562366825|\n",
      "|          8| 944.8384030418251|\n",
      "|         10| 952.2411603158256|\n",
      "|         12| 971.8299694189602|\n",
      "|         13|  986.724535554132|\n",
      "|         14| 1031.148948948949|\n",
      "|         18|1042.1610730034297|\n",
      "+-----------+------------------+\n",
      "only showing top 20 rows\n",
      "\n"
     ]
    }
   ],
   "source": [
    "avg_duration_partitioned.orderBy(\"avg_duration\").show()"
   ]
  },
  {
   "cell_type": "code",
   "execution_count": null,
   "metadata": {
    "id": "0EhWlIFCGcpX"
   },
   "outputs": [],
   "source": [
    "#  7. Compare Timings"
   ]
  },
  {
   "cell_type": "code",
   "execution_count": 25,
   "metadata": {
    "colab": {
     "base_uri": "https://localhost:8080/"
    },
    "id": "v-8Pw9foE27n",
    "outputId": "a1fa4d45-44f7-40cd-b841-40cae9e89004"
   },
   "outputs": [
    {
     "name": "stdout",
     "output_type": "stream",
     "text": [
      "+-----------+------------------+\n",
      "|pickup_hour|avg(trip_duration)|\n",
      "+-----------+------------------+\n",
      "|         12| 971.8299694189602|\n",
      "|         22| 883.1973018549747|\n",
      "|          1|  868.113301942319|\n",
      "|         13|  986.724535554132|\n",
      "|         16|1086.0443105281815|\n",
      "|          6| 698.1391391391392|\n",
      "|          3| 811.1673984632272|\n",
      "|         20| 907.3041037294479|\n",
      "|          5| 765.0469992769342|\n",
      "|         19| 895.6161195492406|\n",
      "|         15|1125.0550742574258|\n",
      "|         17|1064.8161903380242|\n",
      "|          9| 942.5535122597747|\n",
      "|          4|1100.7176470588236|\n",
      "|          8| 944.8384030418251|\n",
      "|         23| 912.5974237730311|\n",
      "|          7| 803.3330645161291|\n",
      "|         10| 952.2411603158256|\n",
      "|         21| 852.6107329842932|\n",
      "|         11| 942.5669562366825|\n",
      "+-----------+------------------+\n",
      "only showing top 20 rows\n",
      "\n",
      "Time without caching: 1.0353631973266602\n",
      "+-----------+------------------+\n",
      "|pickup_hour|avg(trip_duration)|\n",
      "+-----------+------------------+\n",
      "|         12| 971.8299694189602|\n",
      "|         22| 883.1973018549747|\n",
      "|          1|  868.113301942319|\n",
      "|         13|  986.724535554132|\n",
      "|         16|1086.0443105281815|\n",
      "|          6| 698.1391391391392|\n",
      "|          3| 811.1673984632272|\n",
      "|         20| 907.3041037294479|\n",
      "|          5| 765.0469992769342|\n",
      "|         19| 895.6161195492406|\n",
      "|         15|1125.0550742574258|\n",
      "|         17|1064.8161903380242|\n",
      "|          9| 942.5535122597747|\n",
      "|          4|1100.7176470588236|\n",
      "|          8| 944.8384030418251|\n",
      "|         23| 912.5974237730311|\n",
      "|          7| 803.3330645161291|\n",
      "|         10| 952.2411603158256|\n",
      "|         21| 852.6107329842932|\n",
      "|         11| 942.5669562366825|\n",
      "+-----------+------------------+\n",
      "only showing top 20 rows\n",
      "\n",
      "Time with caching: 2.5425283908843994\n",
      "+-----------+------------------+\n",
      "|pickup_hour|avg(trip_duration)|\n",
      "+-----------+------------------+\n",
      "|         14| 1031.148948948949|\n",
      "|         18|1042.1610730034297|\n",
      "|         19| 895.6161195492406|\n",
      "|         20| 907.3041037294479|\n",
      "|          6| 698.1391391391392|\n",
      "|          0|  902.366786393408|\n",
      "|          7| 803.3330645161291|\n",
      "|         21| 852.6107329842932|\n",
      "|          8| 944.8384030418251|\n",
      "|          3| 811.1673984632272|\n",
      "|         13|  986.724535554132|\n",
      "|         23| 912.5974237730311|\n",
      "|         15|1125.0550742574258|\n",
      "|         16|1086.0443105281815|\n",
      "|         22| 883.1973018549747|\n",
      "|          2|  772.278376139188|\n",
      "|         10| 952.2411603158256|\n",
      "|          5| 765.0469992769342|\n",
      "|          4|1100.7176470588236|\n",
      "|          1|  868.113301942319|\n",
      "+-----------+------------------+\n",
      "only showing top 20 rows\n",
      "\n",
      "Time with repartitioning and caching: 3.0551037788391113\n"
     ]
    }
   ],
   "source": [
    "import time\n",
    "\n",
    "start = time.time()\n",
    "df.groupBy(\"pickup_hour\").agg(avg(\"trip_duration\")).show()\n",
    "print(\"Time without caching:\", time.time() - start)\n",
    "\n",
    "df.cache()\n",
    "\n",
    "start = time.time()\n",
    "df.groupBy(\"pickup_hour\").agg(avg(\"trip_duration\")).show()\n",
    "print(\"Time with caching:\", time.time() - start)\n",
    "\n",
    "df_partitioned = df.repartition(12, \"pickup_hour\")\n",
    "df_partitioned.cache()\n",
    "\n",
    "start = time.time()\n",
    "df_partitioned.groupBy(\"pickup_hour\").agg(avg(\"trip_duration\")).show()\n",
    "print(\"Time with repartitioning and caching:\", time.time() - start)\n"
   ]
  },
  {
   "cell_type": "code",
   "execution_count": null,
   "metadata": {
    "id": "1gujeUdMFXbH"
   },
   "outputs": [],
   "source": []
  }
 ],
 "metadata": {
  "colab": {
   "provenance": []
  },
  "kernelspec": {
   "display_name": "Python 3 (ipykernel)",
   "language": "python",
   "name": "python3"
  },
  "language_info": {
   "codemirror_mode": {
    "name": "ipython",
    "version": 3
   },
   "file_extension": ".py",
   "mimetype": "text/x-python",
   "name": "python",
   "nbconvert_exporter": "python",
   "pygments_lexer": "ipython3",
   "version": "3.13.5"
  }
 },
 "nbformat": 4,
 "nbformat_minor": 4
}
